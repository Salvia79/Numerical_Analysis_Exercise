{
 "cells": [
  {
   "cell_type": "markdown",
   "id": "3cee9352",
   "metadata": {
    "tags": []
   },
   "source": [
    "# Gauss-Seidel \n"
   ]
  },
  {
   "cell_type": "code",
   "execution_count": 7,
   "id": "c1b189e4",
   "metadata": {
    "tags": []
   },
   "outputs": [],
   "source": [
    "import numpy as np"
   ]
  },
  {
   "cell_type": "code",
   "execution_count": 12,
   "id": "4dd2fbad",
   "metadata": {
    "tags": []
   },
   "outputs": [],
   "source": [
    "def gauss_seidel(a, b, x, max_iteration=1000, tolerance=1e-10):\n",
    "    n = len(b)\n",
    "    \n",
    "    for _ in range(max_iteration):\n",
    "        x_new = np.zeros_like(x)\n",
    "        for i in range(n):    # Iteration\n",
    "            x_new[i] = (b[i] - np.dot(a[i, :i], x_new[:i]) - np.dot(a[i, i+1:], x[i+1:])) / a[i, i]\n",
    "            \n",
    "        if np.linalg.norm(x - x_new) < tolerance:\n",
    "            return x_new\n",
    "        \n",
    "        x = x_new\n",
    "    raise ValueError(\"Gauss-Seidel iteration did not converge\")"
   ]
  },
  {
   "cell_type": "code",
   "execution_count": 19,
   "id": "8b405fb4-dec1-471f-b689-71fb8f8dab68",
   "metadata": {
    "tags": []
   },
   "outputs": [
    {
     "name": "stdout",
     "output_type": "stream",
     "text": [
      "Ref:\n",
      " [[5.10457516]\n",
      " [8.41830065]\n",
      " [8.56862745]\n",
      " [7.85620915]]\n",
      "Solu:\n",
      " [[5.10457516]\n",
      " [8.41830065]\n",
      " [8.56862745]\n",
      " [7.85620915]]\n"
     ]
    }
   ],
   "source": [
    "x = 0\n",
    "strlists = []\n",
    "try:\n",
    "    with open('iter3.txt') as file:\n",
    "        for line in file:\n",
    "            x += 1\n",
    "            strlists.extend(line.strip().split())\n",
    "except FileNotFoundError:\n",
    "    print(\"Cannot find the file!\")\n",
    "    \n",
    "augmat = np.array(strlists).astype(np.float64).reshape(x,x+1)\n",
    "a,b =np.split(augmat,[x],axis=1)\n",
    "x0 = np.zeros_like(b)\n",
    "\n",
    "print(\"Ref:\\n\", np.linalg.solve(a,b))\n",
    "print(\"Solu:\\n\", gauss_seidel(a,b,x0))"
   ]
  },
  {
   "cell_type": "markdown",
   "id": "e5f214b4",
   "metadata": {},
   "source": [
    "# SOR"
   ]
  },
  {
   "cell_type": "code",
   "execution_count": 6,
   "id": "a761dc16-87bd-4f84-b9b0-d86f5cbe8fc4",
   "metadata": {
    "tags": []
   },
   "outputs": [],
   "source": [
    "import numpy as np"
   ]
  },
  {
   "cell_type": "code",
   "execution_count": 7,
   "id": "ecdbb4ad",
   "metadata": {
    "tags": []
   },
   "outputs": [],
   "source": [
    "def sor_method(a, b, x, omega, max_iterations, tolerance=1e-10):\n",
    "    n = len(b)\n",
    "\n",
    "    for k in range(max_iterations): # Control times of iteration\n",
    "        x_new = x.copy()\n",
    "        \n",
    "        for i in range(n): # Iteration\n",
    "            x_new[i] = (1 - omega) * x[i] + omega * (b[i] - np.dot(a[i, :i], x_new[:i]) - np.dot(a[i, i + 1:], x[i + 1:])) / a[i, i] \n",
    "        \n",
    "        if np.linalg.norm(x_new - x) < tolerance:\n",
    "            return x_new\n",
    "        \n",
    "        x = x_new\n",
    "    \n",
    "    return x"
   ]
  },
  {
   "cell_type": "code",
   "execution_count": 12,
   "id": "056edb40-486e-4fe3-824a-dc374390fa22",
   "metadata": {
    "tags": []
   },
   "outputs": [
    {
     "name": "stdout",
     "output_type": "stream",
     "text": [
      "Ref:\n",
      " [[ 4.66751577]\n",
      " [ 8.34801067]\n",
      " [-6.06762494]\n",
      " [-3.1073508 ]]\n",
      "Solu:\n",
      " [[ 4.66751577]\n",
      " [ 8.34801067]\n",
      " [-6.06762494]\n",
      " [-3.1073508 ]]\n"
     ]
    }
   ],
   "source": [
    "x = 0\n",
    "strlists = []\n",
    "try:\n",
    "    with open('iter2.txt') as file:\n",
    "        for line in file:\n",
    "            x += 1\n",
    "            strlists.extend(line.strip().split())\n",
    "except FileNotFoundError:\n",
    "    print(\"Cannot find the file!\")\n",
    "    \n",
    "augmat = np.array(strlists).astype(np.float64).reshape(x,x+1)\n",
    "a,b = np.split(augmat,[x],axis=1)\n",
    "x0 = np.zeros_like(b)\n",
    "\n",
    "omega = 1.007\n",
    "max_iteration = 50\n",
    "\n",
    "print(\"Ref:\\n\", np.linalg.solve(a,b))\n",
    "print(\"Solu:\\n\", sor_method(a,b,x0,omega,max_iteration))"
   ]
  },
  {
   "cell_type": "code",
   "execution_count": null,
   "id": "5ff62826-da6e-4ecc-b568-1f21f84eb947",
   "metadata": {},
   "outputs": [],
   "source": []
  }
 ],
 "metadata": {
  "kernelspec": {
   "display_name": "Python 3 (ipykernel)",
   "language": "python",
   "name": "python3"
  },
  "language_info": {
   "codemirror_mode": {
    "name": "ipython",
    "version": 3
   },
   "file_extension": ".py",
   "mimetype": "text/x-python",
   "name": "python",
   "nbconvert_exporter": "python",
   "pygments_lexer": "ipython3",
   "version": "3.11.5"
  },
  "toc-autonumbering": true,
  "toc-showcode": true,
  "toc-showmarkdowntxt": false
 },
 "nbformat": 4,
 "nbformat_minor": 5
}
